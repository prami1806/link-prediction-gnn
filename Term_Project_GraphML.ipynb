{
  "nbformat": 4,
  "nbformat_minor": 0,
  "metadata": {
    "colab": {
      "provenance": [],
      "collapsed_sections": []
    },
    "kernelspec": {
      "name": "python3",
      "display_name": "Python 3"
    },
    "language_info": {
      "name": "python"
    },
    "accelerator": "GPU"
  },
  "cells": [
    {
      "cell_type": "code",
      "execution_count": 1,
      "metadata": {
        "colab": {
          "base_uri": "https://localhost:8080/"
        },
        "id": "2XpepSpWS3bE",
        "outputId": "f626e7c7-cb49-4c09-f4f0-68afae4ec596"
      },
      "outputs": [
        {
          "output_type": "stream",
          "name": "stdout",
          "text": [
            "Looking in indexes: https://pypi.org/simple, https://us-python.pkg.dev/colab-wheels/public/simple/\n",
            "Looking in links: https://data.pyg.org/whl/torch-1.12.1+cu113.html\n",
            "Collecting torch-scatter\n",
            "  Downloading https://data.pyg.org/whl/torch-1.12.0%2Bcu113/torch_scatter-2.0.9-cp37-cp37m-linux_x86_64.whl (7.9 MB)\n",
            "\u001b[K     |████████████████████████████████| 7.9 MB 34.5 MB/s \n",
            "\u001b[?25hInstalling collected packages: torch-scatter\n",
            "Successfully installed torch-scatter-2.0.9\n",
            "Looking in indexes: https://pypi.org/simple, https://us-python.pkg.dev/colab-wheels/public/simple/\n",
            "Looking in links: https://data.pyg.org/whl/torch-1.12.1+cu113.html\n",
            "Collecting torch-sparse\n",
            "  Downloading https://data.pyg.org/whl/torch-1.12.0%2Bcu113/torch_sparse-0.6.15-cp37-cp37m-linux_x86_64.whl (3.5 MB)\n",
            "\u001b[K     |████████████████████████████████| 3.5 MB 19.2 MB/s \n",
            "\u001b[?25hRequirement already satisfied: scipy in /usr/local/lib/python3.7/dist-packages (from torch-sparse) (1.7.3)\n",
            "Requirement already satisfied: numpy<1.23.0,>=1.16.5 in /usr/local/lib/python3.7/dist-packages (from scipy->torch-sparse) (1.21.6)\n",
            "Installing collected packages: torch-sparse\n",
            "Successfully installed torch-sparse-0.6.15\n",
            "Looking in indexes: https://pypi.org/simple, https://us-python.pkg.dev/colab-wheels/public/simple/\n",
            "Collecting torch-geometric\n",
            "  Downloading torch_geometric-2.1.0.post1.tar.gz (467 kB)\n",
            "\u001b[K     |████████████████████████████████| 467 kB 20.7 MB/s \n",
            "\u001b[?25hRequirement already satisfied: tqdm in /usr/local/lib/python3.7/dist-packages (from torch-geometric) (4.64.1)\n",
            "Requirement already satisfied: numpy in /usr/local/lib/python3.7/dist-packages (from torch-geometric) (1.21.6)\n",
            "Requirement already satisfied: scipy in /usr/local/lib/python3.7/dist-packages (from torch-geometric) (1.7.3)\n",
            "Requirement already satisfied: jinja2 in /usr/local/lib/python3.7/dist-packages (from torch-geometric) (2.11.3)\n",
            "Requirement already satisfied: requests in /usr/local/lib/python3.7/dist-packages (from torch-geometric) (2.23.0)\n",
            "Requirement already satisfied: pyparsing in /usr/local/lib/python3.7/dist-packages (from torch-geometric) (3.0.9)\n",
            "Requirement already satisfied: scikit-learn in /usr/local/lib/python3.7/dist-packages (from torch-geometric) (1.0.2)\n",
            "Requirement already satisfied: MarkupSafe>=0.23 in /usr/local/lib/python3.7/dist-packages (from jinja2->torch-geometric) (2.0.1)\n",
            "Requirement already satisfied: certifi>=2017.4.17 in /usr/local/lib/python3.7/dist-packages (from requests->torch-geometric) (2022.9.24)\n",
            "Requirement already satisfied: chardet<4,>=3.0.2 in /usr/local/lib/python3.7/dist-packages (from requests->torch-geometric) (3.0.4)\n",
            "Requirement already satisfied: idna<3,>=2.5 in /usr/local/lib/python3.7/dist-packages (from requests->torch-geometric) (2.10)\n",
            "Requirement already satisfied: urllib3!=1.25.0,!=1.25.1,<1.26,>=1.21.1 in /usr/local/lib/python3.7/dist-packages (from requests->torch-geometric) (1.24.3)\n",
            "Requirement already satisfied: threadpoolctl>=2.0.0 in /usr/local/lib/python3.7/dist-packages (from scikit-learn->torch-geometric) (3.1.0)\n",
            "Requirement already satisfied: joblib>=0.11 in /usr/local/lib/python3.7/dist-packages (from scikit-learn->torch-geometric) (1.2.0)\n",
            "Building wheels for collected packages: torch-geometric\n",
            "  Building wheel for torch-geometric (setup.py) ... \u001b[?25l\u001b[?25hdone\n",
            "  Created wheel for torch-geometric: filename=torch_geometric-2.1.0.post1-py3-none-any.whl size=689859 sha256=d9be1e99bfd0ec80aff7f1f1289046f2da982f305dd57747feedf63bdcb53941\n",
            "  Stored in directory: /root/.cache/pip/wheels/d1/cb/43/f7f2e472de4d7cff31bceddadc36d634e1e545fbc17961c282\n",
            "Successfully built torch-geometric\n",
            "Installing collected packages: torch-geometric\n",
            "Successfully installed torch-geometric-2.1.0.post1\n",
            "  Building wheel for deepsnap (setup.py) ... \u001b[?25l\u001b[?25hdone\n",
            "Looking in indexes: https://pypi.org/simple, https://us-python.pkg.dev/colab-wheels/public/simple/\n",
            "Collecting ogb\n",
            "  Downloading ogb-1.3.4-py3-none-any.whl (78 kB)\n",
            "\u001b[K     |████████████████████████████████| 78 kB 7.4 MB/s \n",
            "\u001b[?25hRequirement already satisfied: pandas>=0.24.0 in /usr/local/lib/python3.7/dist-packages (from ogb) (1.3.5)\n",
            "Collecting outdated>=0.2.0\n",
            "  Downloading outdated-0.2.1-py3-none-any.whl (7.5 kB)\n",
            "Requirement already satisfied: torch>=1.6.0 in /usr/local/lib/python3.7/dist-packages (from ogb) (1.12.1+cu113)\n",
            "Requirement already satisfied: tqdm>=4.29.0 in /usr/local/lib/python3.7/dist-packages (from ogb) (4.64.1)\n",
            "Requirement already satisfied: numpy>=1.16.0 in /usr/local/lib/python3.7/dist-packages (from ogb) (1.21.6)\n",
            "Requirement already satisfied: urllib3>=1.24.0 in /usr/local/lib/python3.7/dist-packages (from ogb) (1.24.3)\n",
            "Requirement already satisfied: six>=1.12.0 in /usr/local/lib/python3.7/dist-packages (from ogb) (1.15.0)\n",
            "Requirement already satisfied: scikit-learn>=0.20.0 in /usr/local/lib/python3.7/dist-packages (from ogb) (1.0.2)\n",
            "Requirement already satisfied: requests in /usr/local/lib/python3.7/dist-packages (from outdated>=0.2.0->ogb) (2.23.0)\n",
            "Collecting littleutils\n",
            "  Downloading littleutils-0.2.2.tar.gz (6.6 kB)\n",
            "Requirement already satisfied: pytz>=2017.3 in /usr/local/lib/python3.7/dist-packages (from pandas>=0.24.0->ogb) (2022.4)\n",
            "Requirement already satisfied: python-dateutil>=2.7.3 in /usr/local/lib/python3.7/dist-packages (from pandas>=0.24.0->ogb) (2.8.2)\n",
            "Requirement already satisfied: threadpoolctl>=2.0.0 in /usr/local/lib/python3.7/dist-packages (from scikit-learn>=0.20.0->ogb) (3.1.0)\n",
            "Requirement already satisfied: scipy>=1.1.0 in /usr/local/lib/python3.7/dist-packages (from scikit-learn>=0.20.0->ogb) (1.7.3)\n",
            "Requirement already satisfied: joblib>=0.11 in /usr/local/lib/python3.7/dist-packages (from scikit-learn>=0.20.0->ogb) (1.2.0)\n",
            "Requirement already satisfied: typing-extensions in /usr/local/lib/python3.7/dist-packages (from torch>=1.6.0->ogb) (4.1.1)\n",
            "Requirement already satisfied: certifi>=2017.4.17 in /usr/local/lib/python3.7/dist-packages (from requests->outdated>=0.2.0->ogb) (2022.9.24)\n",
            "Requirement already satisfied: chardet<4,>=3.0.2 in /usr/local/lib/python3.7/dist-packages (from requests->outdated>=0.2.0->ogb) (3.0.4)\n",
            "Requirement already satisfied: idna<3,>=2.5 in /usr/local/lib/python3.7/dist-packages (from requests->outdated>=0.2.0->ogb) (2.10)\n",
            "Building wheels for collected packages: littleutils\n",
            "  Building wheel for littleutils (setup.py) ... \u001b[?25l\u001b[?25hdone\n",
            "  Created wheel for littleutils: filename=littleutils-0.2.2-py3-none-any.whl size=7048 sha256=aac3409255ced2f0b5e39062d9842f7603556294fe85c7e825b278a4d3a70443\n",
            "  Stored in directory: /root/.cache/pip/wheels/d6/64/cd/32819b511a488e4993f2fab909a95330289c3f4e0f6ef4676d\n",
            "Successfully built littleutils\n",
            "Installing collected packages: littleutils, outdated, ogb\n",
            "Successfully installed littleutils-0.2.2 ogb-1.3.4 outdated-0.2.1\n"
          ]
        }
      ],
      "source": [
        "!pip install torch-scatter -f https://data.pyg.org/whl/torch-1.12.1+cu113.html\n",
        "!pip install torch-sparse -f https://data.pyg.org/whl/torch-1.12.1+cu113.html\n",
        "!pip install torch-geometric\n",
        "!pip install -q git+https://github.com/snap-stanford/deepsnap.git\n",
        "!pip install ogb"
      ]
    },
    {
      "cell_type": "code",
      "source": [
        "import torch\n",
        "import torch_geometric\n",
        "import torch.nn as nn\n",
        "import torch.nn.functional as F\n",
        "from torch_geometric.loader import DataLoader\n",
        "from torch_geometric.nn import SAGEConv\n",
        "from torch_geometric.utils import negative_sampling"
      ],
      "metadata": {
        "id": "nYrxhHvbTUo1"
      },
      "execution_count": 2,
      "outputs": []
    },
    {
      "cell_type": "code",
      "source": [
        "device = torch.device('cuda' if torch.cuda.is_available() else 'cpu')"
      ],
      "metadata": {
        "id": "O0J1jL5KXHdM"
      },
      "execution_count": 3,
      "outputs": []
    },
    {
      "cell_type": "code",
      "source": [
        "from ogb.linkproppred import PygLinkPropPredDataset\n",
        "dataset = PygLinkPropPredDataset(name='ogbl-ddi')"
      ],
      "metadata": {
        "colab": {
          "base_uri": "https://localhost:8080/"
        },
        "id": "ZEsy4z7rXNpK",
        "outputId": "33d01c48-64bf-4b68-96ad-9f98a8b09b0f"
      },
      "execution_count": 4,
      "outputs": [
        {
          "output_type": "stream",
          "name": "stdout",
          "text": [
            "Downloading http://snap.stanford.edu/ogb/data/linkproppred/ddi.zip\n"
          ]
        },
        {
          "output_type": "stream",
          "name": "stderr",
          "text": [
            "Downloaded 0.04 GB: 100%|██████████| 46/46 [00:06<00:00,  7.25it/s]\n"
          ]
        },
        {
          "output_type": "stream",
          "name": "stdout",
          "text": [
            "Extracting dataset/ddi.zip\n"
          ]
        },
        {
          "output_type": "stream",
          "name": "stderr",
          "text": [
            "Processing...\n"
          ]
        },
        {
          "output_type": "stream",
          "name": "stdout",
          "text": [
            "Loading necessary files...\n",
            "This might take a while.\n",
            "Processing graphs...\n"
          ]
        },
        {
          "output_type": "stream",
          "name": "stderr",
          "text": [
            "100%|██████████| 1/1 [00:00<00:00, 35.59it/s]\n"
          ]
        },
        {
          "output_type": "stream",
          "name": "stdout",
          "text": [
            "Converting graphs into PyG objects...\n"
          ]
        },
        {
          "output_type": "stream",
          "name": "stderr",
          "text": [
            "100%|██████████| 1/1 [00:00<00:00, 1352.56it/s]"
          ]
        },
        {
          "output_type": "stream",
          "name": "stdout",
          "text": [
            "Saving...\n"
          ]
        },
        {
          "output_type": "stream",
          "name": "stderr",
          "text": [
            "\n",
            "Done!\n"
          ]
        }
      ]
    },
    {
      "cell_type": "code",
      "source": [
        "ddi_graph = dataset[0]\n",
        "ddi_graph.num_nodes"
      ],
      "metadata": {
        "id": "bUCMleFbXkDq",
        "colab": {
          "base_uri": "https://localhost:8080/"
        },
        "outputId": "9f00d06d-ffc1-4fd4-d568-cc19929f4226"
      },
      "execution_count": 5,
      "outputs": [
        {
          "output_type": "execute_result",
          "data": {
            "text/plain": [
              "4267"
            ]
          },
          "metadata": {},
          "execution_count": 5
        }
      ]
    },
    {
      "cell_type": "code",
      "source": [
        "ddi_graph.num_edges"
      ],
      "metadata": {
        "colab": {
          "base_uri": "https://localhost:8080/"
        },
        "id": "9lEt1uB5-Iu0",
        "outputId": "4cd67d8b-9aa5-4f84-b014-ad260b351aec"
      },
      "execution_count": 6,
      "outputs": [
        {
          "output_type": "execute_result",
          "data": {
            "text/plain": [
              "2135822"
            ]
          },
          "metadata": {},
          "execution_count": 6
        }
      ]
    },
    {
      "cell_type": "code",
      "source": [
        "ddi_graph.is_undirected()"
      ],
      "metadata": {
        "colab": {
          "base_uri": "https://localhost:8080/"
        },
        "id": "HaUcPNCr-L_g",
        "outputId": "c1b26772-cc17-4284-960a-b6d7847d7dff"
      },
      "execution_count": 7,
      "outputs": [
        {
          "output_type": "execute_result",
          "data": {
            "text/plain": [
              "True"
            ]
          },
          "metadata": {},
          "execution_count": 7
        }
      ]
    },
    {
      "cell_type": "code",
      "source": [
        "ddi_graph.num_node_features"
      ],
      "metadata": {
        "colab": {
          "base_uri": "https://localhost:8080/"
        },
        "id": "Ixl2G0hx-nnV",
        "outputId": "c735e18c-a623-409b-ea1a-51cc2354d3d0"
      },
      "execution_count": 8,
      "outputs": [
        {
          "output_type": "execute_result",
          "data": {
            "text/plain": [
              "0"
            ]
          },
          "metadata": {},
          "execution_count": 8
        }
      ]
    },
    {
      "cell_type": "code",
      "source": [
        "ddi_graph.has_isolated_nodes()"
      ],
      "metadata": {
        "colab": {
          "base_uri": "https://localhost:8080/"
        },
        "id": "RtwdUSa6-pQK",
        "outputId": "6de34d8d-319b-490e-bf93-17c30ebb49fa"
      },
      "execution_count": 9,
      "outputs": [
        {
          "output_type": "execute_result",
          "data": {
            "text/plain": [
              "False"
            ]
          },
          "metadata": {},
          "execution_count": 9
        }
      ]
    },
    {
      "cell_type": "code",
      "source": [
        "ddi_graph.has_self_loops()"
      ],
      "metadata": {
        "colab": {
          "base_uri": "https://localhost:8080/"
        },
        "id": "hAssp3NAKEKt",
        "outputId": "94565697-f29a-4134-ca6a-42481a45bced"
      },
      "execution_count": 10,
      "outputs": [
        {
          "output_type": "execute_result",
          "data": {
            "text/plain": [
              "False"
            ]
          },
          "metadata": {},
          "execution_count": 10
        }
      ]
    },
    {
      "cell_type": "code",
      "source": [
        "split_edges = dataset.get_edge_split()\n",
        "train_edges, valid_edges, test_edges = split_edges['train'],split_edges['valid'],split_edges['test']"
      ],
      "metadata": {
        "id": "UuR0pTUPKIKT"
      },
      "execution_count": 11,
      "outputs": []
    },
    {
      "cell_type": "code",
      "source": [
        "train_edges[\"edge\"].shape[0]"
      ],
      "metadata": {
        "colab": {
          "base_uri": "https://localhost:8080/"
        },
        "id": "jBzac4EqLKF3",
        "outputId": "72a99eec-15c8-4c24-ad81-586893a15841"
      },
      "execution_count": 12,
      "outputs": [
        {
          "output_type": "execute_result",
          "data": {
            "text/plain": [
              "1067911"
            ]
          },
          "metadata": {},
          "execution_count": 12
        }
      ]
    },
    {
      "cell_type": "code",
      "source": [
        "valid_edges[\"edge\"].shape[0]"
      ],
      "metadata": {
        "colab": {
          "base_uri": "https://localhost:8080/"
        },
        "id": "NvMaTBKlLIpX",
        "outputId": "e3233332-e4b7-48ed-9d08-ef097bd318b5"
      },
      "execution_count": 13,
      "outputs": [
        {
          "output_type": "execute_result",
          "data": {
            "text/plain": [
              "133489"
            ]
          },
          "metadata": {},
          "execution_count": 13
        }
      ]
    },
    {
      "cell_type": "code",
      "source": [
        "valid_edges[\"edge_neg\"].shape[0]"
      ],
      "metadata": {
        "colab": {
          "base_uri": "https://localhost:8080/"
        },
        "id": "Jsq7rSFnLV90",
        "outputId": "3b1e3724-d838-4529-d27f-b96edc8ad929"
      },
      "execution_count": 14,
      "outputs": [
        {
          "output_type": "execute_result",
          "data": {
            "text/plain": [
              "101882"
            ]
          },
          "metadata": {},
          "execution_count": 14
        }
      ]
    },
    {
      "cell_type": "code",
      "source": [
        "test_edges[\"edge\"].shape[0]"
      ],
      "metadata": {
        "colab": {
          "base_uri": "https://localhost:8080/"
        },
        "id": "NvtmjsX7LcMS",
        "outputId": "db72384f-7f1f-4f8e-d3ca-996157d6c50d"
      },
      "execution_count": 15,
      "outputs": [
        {
          "output_type": "execute_result",
          "data": {
            "text/plain": [
              "133489"
            ]
          },
          "metadata": {},
          "execution_count": 15
        }
      ]
    },
    {
      "cell_type": "code",
      "source": [
        "valid_edges[\"edge_neg\"].shape[0]"
      ],
      "metadata": {
        "colab": {
          "base_uri": "https://localhost:8080/"
        },
        "id": "32qyzJoxLm9N",
        "outputId": "51d56212-1762-4ca2-c8f6-2e54cfdb8222"
      },
      "execution_count": 16,
      "outputs": [
        {
          "output_type": "execute_result",
          "data": {
            "text/plain": [
              "101882"
            ]
          },
          "metadata": {},
          "execution_count": 16
        }
      ]
    },
    {
      "cell_type": "code",
      "source": [
        "class GraphSAGE(torch.nn.Module):\n",
        "  def __init__(self,conv,in_channels,hidden_channels,out_channels,num_layers,dropout):\n",
        "    super(GraphSAGE,self).__init__()\n",
        "    self.convs = torch.nn.ModuleList()\n",
        "    assert (num_layers>=2), 'Have at least 2 layers'\n",
        "    self.convs.append(conv(in_channels,hidden_channels,normalize=True))\n",
        "    for l in range(num_layers - 2):\n",
        "      self.convs.append(conv(hidden_channels,hidden_channels,normalize=True))\n",
        "    self.convs.append(conv(hidden_channels,out_channels,normalize=True))\n",
        "    self.num_layers = num_layers\n",
        "    self.dropout = dropout\n",
        "\n",
        "  def forward(self,x,edge_index,edge_attr):\n",
        "    if edge_attr is not None:\n",
        "      return self.forward_with_edge_attr(x,edge_index,edge_attr)\n",
        "    for i in range(self.num_layers - 1):\n",
        "      x = self.convs[i](x,edge_index)\n",
        "      x = F.relu(x)\n",
        "      x = F.dropout(x,p=self.dropout,training=self.training)\n",
        "    x = self.convs[self.num_layers-1](x,edge_index,edge_attr)\n",
        "    return x"
      ],
      "metadata": {
        "id": "KFWu7X8gLqjZ"
      },
      "execution_count": 17,
      "outputs": []
    },
    {
      "cell_type": "code",
      "source": [
        "graphsage_in_channels = 256\n",
        "graphsage_hidden_channels = 256\n",
        "graphsage_out_channels = 256\n",
        "graphsage_num_layers = 2\n",
        "dropout = 0.5"
      ],
      "metadata": {
        "id": "84AlfFDsOY1M"
      },
      "execution_count": 18,
      "outputs": []
    },
    {
      "cell_type": "code",
      "source": [
        "initial_node_embeddings = torch.nn.Embedding(ddi_graph.num_nodes, graphsage_in_channels).to(device)"
      ],
      "metadata": {
        "id": "LcnAhs0oPZhc"
      },
      "execution_count": 19,
      "outputs": []
    },
    {
      "cell_type": "code",
      "source": [
        "graphsage_model = GraphSAGE(SAGEConv, graphsage_in_channels,\n",
        "                            graphsage_hidden_channels,\n",
        "                            graphsage_out_channels,\n",
        "                            graphsage_num_layers,\n",
        "                            dropout).to(device)"
      ],
      "metadata": {
        "id": "BVFuy61tPszJ"
      },
      "execution_count": 20,
      "outputs": []
    },
    {
      "cell_type": "code",
      "source": [
        "link_predictor_in_channels = graphsage_out_channels\n",
        "link_predictor_hidden_channels = link_predictor_in_channels"
      ],
      "metadata": {
        "id": "hHmFHfobQAUJ"
      },
      "execution_count": 21,
      "outputs": []
    },
    {
      "cell_type": "code",
      "source": [
        "class LinkPredictor(torch.nn.Module):\n",
        "  def __init__(self,in_channels,hidden_channels,dropout,out_channels=1,\n",
        "               concat=lambda x,y:x*y):\n",
        "    super(LinkPredictor,self).__init__()\n",
        "    self.model = nn.Sequential(nn.Linear(in_channels,hidden_channels),nn.ReLU(),\n",
        "                               nn.Dropout(p=dropout),nn.Linear(hidden_channels,out_channels),nn.Sigmoid())\n",
        "    self.concat = concat\n",
        "  \n",
        "  def forward(self,u,v):\n",
        "    x = self.concat(u,v)\n",
        "    return self.model(x)"
      ],
      "metadata": {
        "id": "mm3pjK4sQSVb"
      },
      "execution_count": 22,
      "outputs": []
    },
    {
      "cell_type": "code",
      "source": [
        "link_predictor = LinkPredictor(in_channels=link_predictor_in_channels, \n",
        "                               hidden_channels=link_predictor_hidden_channels, \n",
        "                               dropout=dropout).to(device)"
      ],
      "metadata": {
        "id": "CXFxr1SyRRm7"
      },
      "execution_count": 23,
      "outputs": []
    },
    {
      "cell_type": "code",
      "source": [
        "def train(graphsage_model, link_predictor, initial_node_embeddings, edge_index,\n",
        "          pos_train_edges, optimizer, batch_size, edge_attr=None):\n",
        "  total_loss, total_examples = 0,0\n",
        "  graphsage_model.train()\n",
        "  link_predictor.train()\n",
        "  for pos_samples in DataLoader(pos_train_edges, batch_size, shuffle=True):\n",
        "    optimizer.zero_grad()\n",
        "    node_embeddings = graphsage_model(initial_node_embeddings,edge_index,edge_attr)\n",
        "    neg_samples = negative_sampling(edge_index,\n",
        "                                    num_nodes = initial_node_embeddings.size(0),\n",
        "                                    num_neg_samples=len(pos_samples),\n",
        "                                    method='dense')\n",
        "    pos_preds = link_predictor(node_embeddings[pos_samples[:,0]],\n",
        "                               node_embeddings[pos_samples[:,1]])\n",
        "    neg_preds = link_predictor(node_embeddings[neg_samples[0]],\n",
        "                               node_embeddings[neg_samples[1]])\n",
        "    preds = torch.concat((pos_preds,neg_preds))\n",
        "    labels = torch.concat((torch.ones_like(pos_preds),\n",
        "                           torch.zeros_like(neg_preds)))\n",
        "    loss = F.binary_cross_entropy(preds,labels)\n",
        "    loss.backward()\n",
        "    optimizer.step()\n",
        "    num_examples = len(pos_preds)\n",
        "    total_loss += loss.item()*num_examples\n",
        "    total_examples += num_examples\n",
        "  return total_loss/total_examples"
      ],
      "metadata": {
        "id": "S0GtW9luSa-w"
      },
      "execution_count": 24,
      "outputs": []
    },
    {
      "cell_type": "code",
      "source": [
        "lr = 0.005\n",
        "batch_size = 65536\n",
        "epochs = 50\n",
        "eval_steps = 5"
      ],
      "metadata": {
        "id": "wKGS5yJOUu3G"
      },
      "execution_count": 25,
      "outputs": []
    },
    {
      "cell_type": "code",
      "execution_count": 26,
      "metadata": {
        "id": "YYiSCRYvEjqh"
      },
      "outputs": [],
      "source": [
        "optimizer = torch.optim.Adam(list(graphsage_model.parameters()) + list(initial_node_embeddings.parameters()) + list(link_predictor.parameters()), lr=lr)"
      ]
    },
    {
      "cell_type": "code",
      "source": [
        "pos_valid_edges = valid_edges['edge'].to(device)\n",
        "neg_valid_edges = valid_edges['edge_neg'].to(device)\n",
        "pos_test_edges = test_edges['edge'].to(device)\n",
        "neg_test_edges = test_edges['edge_neg'].to(device)"
      ],
      "metadata": {
        "id": "HnwtjtrlVC-T"
      },
      "execution_count": 27,
      "outputs": []
    },
    {
      "cell_type": "code",
      "source": [
        "from ogb.linkproppred import Evaluator\n",
        "evaluator = Evaluator(name = 'ogbl-ddi')"
      ],
      "metadata": {
        "id": "eeP_cthxVHIU"
      },
      "execution_count": 28,
      "outputs": []
    },
    {
      "cell_type": "code",
      "source": [
        "@torch.no_grad()\n",
        "def test(graphsage_model, link_predictor, initial_node_embeddings, edge_index, pos_valid_edges, neg_valid_edges, pos_test_edges, neg_test_edges, batch_size, evaluator, edge_attr=None):\n",
        "  graphsage_model.eval()\n",
        "  link_predictor.eval()\n",
        "  final_node_embeddings = graphsage_model(initial_node_embeddings, edge_index, edge_attr)\n",
        "  pos_valid_preds = []\n",
        "  for pos_samples in DataLoader(pos_valid_edges, batch_size):\n",
        "    pos_preds = link_predictor(final_node_embeddings[pos_samples[:,0]],\n",
        "                               final_node_embeddings[pos_samples[:,1]])\n",
        "    pos_valid_preds.append(pos_preds.squeeze())\n",
        "  pos_valid_pred = torch.cat(pos_valid_preds, dim=0) \n",
        "  neg_valid_preds = []\n",
        "  for neg_samples in DataLoader(neg_valid_edges, batch_size):\n",
        "    neg_preds = link_predictor(final_node_embeddings[neg_samples[:,0]],\n",
        "                               final_node_embeddings[neg_samples[:,1]])\n",
        "    neg_valid_preds.append(neg_preds.squeeze())\n",
        "  neg_valid_pred = torch.cat(neg_valid_preds, dim=0)\n",
        "  pos_test_preds = []\n",
        "  for pos_samples in DataLoader(pos_test_edges, batch_size):\n",
        "    pos_preds = link_predictor(final_node_embeddings[pos_samples[:,0]],\n",
        "                               final_node_embeddings[pos_samples[:,1]])\n",
        "    pos_test_preds.append(pos_preds.squeeze())\n",
        "  pos_test_pred = torch.cat(pos_test_preds,dim=0)\n",
        "  neg_test_preds = []\n",
        "  for neg_samples in DataLoader(neg_test_edges, batch_size):\n",
        "    neg_preds = link_predictor(final_node_embeddings[neg_samples[:,0]],\n",
        "                               final_node_embeddings[neg_samples[:,1]])\n",
        "    neg_test_preds.append(neg_preds.squeeze())\n",
        "  neg_test_pred = torch.cat(neg_test_preds,dim=0)\n",
        "  evaluator.K = 20\n",
        "  valid_hits = evaluator.eval({'y_pred_pos':pos_valid_pred,'y_pred_neg':neg_valid_pred})\n",
        "  test_hits = evaluator.eval({'y_pred_pos':pos_test_pred,'y_pred_neg':neg_test_pred})\n",
        "  return valid_hits, test_hits\n"
      ],
      "metadata": {
        "id": "BOPMUGTHVR2M"
      },
      "execution_count": 29,
      "outputs": []
    },
    {
      "cell_type": "code",
      "source": [
        "import matplotlib.pyplot as plt\n",
        "from tqdm import trange\n",
        "epochs_bar = trange(1, epochs+1,desc='Loss n/a')\n",
        "edge_index = ddi_graph.edge_index.to(device)\n",
        "pos_train_edges = train_edges['edge'].to(device)\n",
        "losses = []\n",
        "valid_hits_list = []\n",
        "test_hits_list = []\n",
        "for epoch in epochs_bar:\n",
        "  loss = train(graphsage_model, link_predictor, initial_node_embeddings.weight, edge_index, pos_train_edges, optimizer, batch_size)\n",
        "  losses.append(loss)\n",
        "  epochs_bar.set_description(f'Loss {loss:0.4f}')\n",
        "  if epoch%eval_steps == 0:\n",
        "    valid_hits, test_hits = test(graphsage_model, link_predictor, initial_node_embeddings.weight, edge_index, pos_valid_edges,neg_valid_edges, pos_test_edges, neg_test_edges, batch_size, evaluator)\n",
        "    print()\n",
        "    print(f'Epoch: {epoch}, Validation Hits@20: {valid_hits[\"hits@20\"]:0.4f}, Test Hits@20: {test_hits[\"hits@20\"]:0.4f}')\n",
        "    valid_hits_list.append(valid_hits['hits@20'])\n",
        "    test_hits_list.append(test_hits['hits@20'])\n",
        "  else:\n",
        "    valid_hits_list.append(valid_hits_list[-1] if valid_hits_list else 0)\n",
        "    test_hits_list.append(test_hits_list[-1] if test_hits_list else 0)\n",
        "\n",
        "plt.title(dataset.name + \": GraphSAGE\")\n",
        "plt.xlabel(\"Epoch\")\n",
        "plt.plot(losses, label=\"Training loss\")\n",
        "plt.plot(valid_hits_list, label=\"Validation Hits@20\")\n",
        "plt.plot(test_hits_list, label=\"Test Hits@20\")\n",
        "plt.legend()\n",
        "plt.show()"
      ],
      "metadata": {
        "colab": {
          "base_uri": "https://localhost:8080/",
          "height": 659
        },
        "id": "ExjshwGXyFCM",
        "outputId": "87beeb42-c2cb-477a-9039-513d3d1a42a4"
      },
      "execution_count": 30,
      "outputs": [
        {
          "output_type": "stream",
          "name": "stderr",
          "text": [
            "Loss 0.3255:  10%|█         | 5/50 [00:44<06:35,  8.80s/it]"
          ]
        },
        {
          "output_type": "stream",
          "name": "stdout",
          "text": [
            "\n",
            "Epoch: 5, Validation Hits@20: 0.0839, Test Hits@20: 0.0974\n"
          ]
        },
        {
          "output_type": "stream",
          "name": "stderr",
          "text": [
            "Loss 0.2388:  20%|██        | 10/50 [01:26<05:44,  8.61s/it]"
          ]
        },
        {
          "output_type": "stream",
          "name": "stdout",
          "text": [
            "\n",
            "Epoch: 10, Validation Hits@20: 0.1848, Test Hits@20: 0.1031\n"
          ]
        },
        {
          "output_type": "stream",
          "name": "stderr",
          "text": [
            "Loss 0.1912:  30%|███       | 15/50 [02:09<05:06,  8.75s/it]"
          ]
        },
        {
          "output_type": "stream",
          "name": "stdout",
          "text": [
            "\n",
            "Epoch: 15, Validation Hits@20: 0.2712, Test Hits@20: 0.1538\n"
          ]
        },
        {
          "output_type": "stream",
          "name": "stderr",
          "text": [
            "Loss 0.1645:  40%|████      | 20/50 [02:53<04:34,  9.15s/it]"
          ]
        },
        {
          "output_type": "stream",
          "name": "stdout",
          "text": [
            "\n",
            "Epoch: 20, Validation Hits@20: 0.3303, Test Hits@20: 0.1966\n"
          ]
        },
        {
          "output_type": "stream",
          "name": "stderr",
          "text": [
            "Loss 0.1440:  50%|█████     | 25/50 [03:35<03:38,  8.74s/it]"
          ]
        },
        {
          "output_type": "stream",
          "name": "stdout",
          "text": [
            "\n",
            "Epoch: 25, Validation Hits@20: 0.3590, Test Hits@20: 0.2840\n"
          ]
        },
        {
          "output_type": "stream",
          "name": "stderr",
          "text": [
            "Loss 0.1308:  60%|██████    | 30/50 [04:17<02:53,  8.65s/it]"
          ]
        },
        {
          "output_type": "stream",
          "name": "stdout",
          "text": [
            "\n",
            "Epoch: 30, Validation Hits@20: 0.4569, Test Hits@20: 0.3135\n"
          ]
        },
        {
          "output_type": "stream",
          "name": "stderr",
          "text": [
            "Loss 0.1216:  70%|███████   | 35/50 [05:00<02:10,  8.70s/it]"
          ]
        },
        {
          "output_type": "stream",
          "name": "stdout",
          "text": [
            "\n",
            "Epoch: 35, Validation Hits@20: 0.4124, Test Hits@20: 0.3446\n"
          ]
        },
        {
          "output_type": "stream",
          "name": "stderr",
          "text": [
            "Loss 0.1157:  80%|████████  | 40/50 [05:42<01:26,  8.68s/it]"
          ]
        },
        {
          "output_type": "stream",
          "name": "stdout",
          "text": [
            "\n",
            "Epoch: 40, Validation Hits@20: 0.4930, Test Hits@20: 0.3960\n"
          ]
        },
        {
          "output_type": "stream",
          "name": "stderr",
          "text": [
            "Loss 0.1116:  90%|█████████ | 45/50 [06:24<00:43,  8.66s/it]"
          ]
        },
        {
          "output_type": "stream",
          "name": "stdout",
          "text": [
            "\n",
            "Epoch: 45, Validation Hits@20: 0.4917, Test Hits@20: 0.3294\n"
          ]
        },
        {
          "output_type": "stream",
          "name": "stderr",
          "text": [
            "Loss 0.1072: 100%|██████████| 50/50 [07:06<00:00,  8.53s/it]"
          ]
        },
        {
          "output_type": "stream",
          "name": "stdout",
          "text": [
            "\n",
            "Epoch: 50, Validation Hits@20: 0.4925, Test Hits@20: 0.3181\n"
          ]
        },
        {
          "output_type": "stream",
          "name": "stderr",
          "text": [
            "\n"
          ]
        },
        {
          "output_type": "display_data",
          "data": {
            "text/plain": [
              "<Figure size 432x288 with 1 Axes>"
            ],
            "image/png": "[encoded data removed]"
          },
          "metadata": {
            "needs_background": "light"
          }
        }
      ]
    },
    {
      "cell_type": "code",
      "source": [],
      "metadata": {
        "id": "wvL33HWV1hTg"
      },
      "execution_count": null,
      "outputs": []
    }
  ]
}